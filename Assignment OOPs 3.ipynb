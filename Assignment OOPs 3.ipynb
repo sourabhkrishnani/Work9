{
 "cells": [
  {
   "cell_type": "code",
   "execution_count": 1,
   "id": "02d1def8-87e9-4615-8dcf-9e146458600b",
   "metadata": {},
   "outputs": [],
   "source": [
    "#Q1"
   ]
  },
  {
   "cell_type": "markdown",
   "id": "06bb242e-ba16-4964-ba63-a686d695f43c",
   "metadata": {},
   "source": [
    "Abstraction in object-oriented programming (OOP) is the process of simplifying complex reality by modeling classes based on real-world entities and their behaviors, while hiding the unnecessary details and exposing only the relevant aspects to the users of the class. Abstraction allows you to focus on the essential features of an object while ignoring the underlying complexities.\n",
    "\n",
    "In OOP, abstraction is achieved by creating abstract classes and methods. An abstract class cannot be instantiated; it serves as a blueprint for other classes and defines a common interface for its subclasses. Abstract methods are methods declared in the abstract class but have no implementation in the abstract class itself. Subclasses are required to provide concrete implementations for these abstract methods."
   ]
  },
  {
   "cell_type": "code",
   "execution_count": 5,
   "id": "cded0fd1-b16c-4318-8c65-ab8b849bd9d9",
   "metadata": {},
   "outputs": [
    {
     "name": "stdout",
     "output_type": "stream",
     "text": [
      "Circle Area: 78.5\n",
      "Rectangle Area: 24\n"
     ]
    }
   ],
   "source": [
    "class Shape(ABC):\n",
    "    @abstractmethod\n",
    "    def area(self):\n",
    "        pass\n",
    "\n",
    "class Circle(Shape):\n",
    "    def __init__(self, radius):\n",
    "        self.radius = radius\n",
    "    \n",
    "    def area(self):\n",
    "        return 3.14 * self.radius ** 2\n",
    "\n",
    "class Rectangle(Shape):\n",
    "    def __init__(self, width, lenght):\n",
    "        self.width = width\n",
    "        self.lenght = lenght\n",
    "    \n",
    "    def area(self):\n",
    "        return self.width * self.lenght\n",
    "\n",
    "circle = Circle(5)\n",
    "rectangle = Rectangle(4, 6)\n",
    "\n",
    "print(\"Circle Area:\", circle.area())        \n",
    "print(\"Rectangle Area:\", rectangle.area())  \n"
   ]
  },
  {
   "cell_type": "code",
   "execution_count": null,
   "id": "77b49da5-1416-41fd-9eb1-4e9bdb1e1e39",
   "metadata": {},
   "outputs": [],
   "source": [
    "#Q2"
   ]
  },
  {
   "cell_type": "markdown",
   "id": "36cbfbfa-21d8-4bc0-8593-e8a306729abf",
   "metadata": {},
   "source": [
    "Encapsulation, on the other hand, is the practice of bundling data (attributes) and methods (functions) that operate on the data into a single unit, known as a class. The key idea behind encapsulation is to control access to the internal state of an object, ensuring that the data remains consistent and valid. This is achieved by defining access modifiers (such as public, private, protected) that determine how the internal elements of a class can be accessed from outside the class."
   ]
  },
  {
   "cell_type": "markdown",
   "id": "569198fc-dbca-490c-a35b-7d6e49242491",
   "metadata": {},
   "source": [
    "Abstraction is the process of simplifying complex reality by modeling classes and objects that capture the essential properties and behaviors of real-world entities while ignoring unnecessary details. It focuses on defining the interface and essential features of an object while hiding the underlying implementation details. In other words, abstraction provides a high-level view of an object's functionality without exposing the internal mechanics."
   ]
  },
  {
   "cell_type": "code",
   "execution_count": 6,
   "id": "cc07d654-8743-42c9-92d9-e13a2f937964",
   "metadata": {},
   "outputs": [
    {
     "name": "stdout",
     "output_type": "stream",
     "text": [
      "Engine started\n"
     ]
    }
   ],
   "source": [
    "class Car:\n",
    "    def __init__(self):\n",
    "        self.__fuel_level = 0  \n",
    "        self.__engine_temperature = 0  \n",
    "\n",
    "    def start_engine(self):\n",
    "        if self.__fuel_level > 0 and self.__engine_temperature < 200:\n",
    "            print(\"Engine started\")\n",
    "        else:\n",
    "            print(\"Engine cannot be started\")\n",
    "\n",
    "    def refuel(self, amount):\n",
    "        self.__fuel_level += amount\n",
    "\n",
    "    def update_temperature(self, temperature):\n",
    "        self.__engine_temperature = temperature\n",
    "\n",
    "car = Car()\n",
    "car.refuel(50)\n",
    "car.update_temperature(180)\n",
    "car.start_engine()\n"
   ]
  },
  {
   "cell_type": "code",
   "execution_count": 7,
   "id": "10bac197-0a58-4d42-920b-aee267bc990d",
   "metadata": {},
   "outputs": [
    {
     "name": "stdout",
     "output_type": "stream",
     "text": [
      "Circle Area: 314.0\n",
      "Rectangle Area: 21\n"
     ]
    }
   ],
   "source": [
    "class Shape(ABC):\n",
    "    @abstractmethod\n",
    "    def area(self):\n",
    "        pass\n",
    "\n",
    "class Circle(Shape):\n",
    "    def __init__(self, radius):\n",
    "        self.radius = radius\n",
    "    \n",
    "    def area(self):\n",
    "        return 3.14 * self.radius ** 2\n",
    "\n",
    "class Rectangle(Shape):\n",
    "    def __init__(self, width, lenght):\n",
    "        self.width = width\n",
    "        self.lenght = lenght\n",
    "    \n",
    "    def area(self):\n",
    "        return self.width * self.lenght\n",
    "\n",
    "circle = Circle(10)\n",
    "rectangle = Rectangle(3, 7)\n",
    "\n",
    "print(\"Circle Area:\", circle.area())        \n",
    "print(\"Rectangle Area:\", rectangle.area())  \n"
   ]
  },
  {
   "cell_type": "code",
   "execution_count": null,
   "id": "4fe1aecb-3595-4e7e-b99e-5b0114d5cd45",
   "metadata": {},
   "outputs": [],
   "source": [
    "#Q3"
   ]
  },
  {
   "cell_type": "markdown",
   "id": "a5d33089-51a6-406e-8582-3638e81cd6c4",
   "metadata": {},
   "source": [
    "In Python, the abc module stands for \"Abstract Base Classes.\" It provides a way to define abstract base classes and abstract methods, which are fundamental to achieving abstraction and enforcing a certain structure in object-oriented programming. Abstract base classes (ABCs) are classes that can't be instantiated themselves but are meant to be subclassed by other classes. They provide a blueprint for common functionality and methods that subclasses should implement."
   ]
  },
  {
   "cell_type": "markdown",
   "id": "b8e5fb89-c977-4f1d-854b-33aeb916343b",
   "metadata": {},
   "source": [
    "The main purpose of the abc module is to promote a consistent interface and behavior across a group of related classes, ensuring that certain methods are defined in subclasses and adhered to throughout the inheritance hierarchy. This leads to better code organization, maintainability, and predictability by enforcing a structure that subclasses must follow."
   ]
  },
  {
   "cell_type": "code",
   "execution_count": null,
   "id": "6872bc01-e7d0-4a87-bcb2-2da8ea9062d0",
   "metadata": {},
   "outputs": [],
   "source": [
    "#Q4"
   ]
  },
  {
   "cell_type": "markdown",
   "id": "2b867e48-9224-444a-ac95-90d714ba74d3",
   "metadata": {},
   "source": [
    "Data abstraction in programming refers to the concept of hiding complex implementation details and showing only the essential features of an object. It allows you to work with high-level concepts without needing to understand the intricate internal workings. In object-oriented programming, you can achieve data abstraction through classes, methods, and access control mechanisms."
   ]
  },
  {
   "cell_type": "markdown",
   "id": "a903932e-a5ed-4e06-bee7-50db3864da56",
   "metadata": {},
   "source": [
    "Classes and Objects:\n",
    "Define classes to represent real-world entities or concepts. These classes should encapsulate data (attributes) and methods (functions) that operate on the data. By interacting with objects of these classes, users can work with the abstracted data and behaviors without knowing the underlying implementation details.\n",
    "\n",
    "Access Control:\n",
    "Use access control mechanisms to restrict access to certain attributes and methods. In Python, you can use access modifiers like public, private, and protected to control the visibility of attributes and methods. This helps in enforcing the concept of abstraction, as you can hide internal details from external users while providing only the necessary access points.\n",
    "\n",
    "Use of Properties and Methods:\n",
    "Instead of directly exposing attributes, provide methods and properties to access and modify data. This allows you to apply additional logic, validation, or calculations before interacting with the data. It also allows you to change the internal representation of data without affecting external code."
   ]
  },
  {
   "cell_type": "code",
   "execution_count": 8,
   "id": "65defa6f-6fce-4e1f-bcbb-d345f0f417b9",
   "metadata": {},
   "outputs": [
    {
     "name": "stdout",
     "output_type": "stream",
     "text": [
      "Initial balance: 1000\n",
      "Deposited 500. New balance: 1500\n",
      "Withdrew 200. New balance: 1300\n",
      "Direct access to balance: 1300\n"
     ]
    }
   ],
   "source": [
    "class BankAccount:\n",
    "    def __init__(self, account_number, balance):\n",
    "        self.__account_number = account_number  # Private attribute\n",
    "        self.__balance = balance  # Private attribute\n",
    "\n",
    "    def get_balance(self):\n",
    "        return self.__balance\n",
    "\n",
    "    def deposit(self, amount):\n",
    "        if amount > 0:\n",
    "            self.__balance += amount\n",
    "            print(f\"Deposited {amount}. New balance: {self.__balance}\")\n",
    "\n",
    "    def withdraw(self, amount):\n",
    "        if 0 < amount <= self.__balance:\n",
    "            self.__balance -= amount\n",
    "            print(f\"Withdrew {amount}. New balance: {self.__balance}\")\n",
    "        else:\n",
    "            print(\"Insufficient balance.\")\n",
    "\n",
    "account = BankAccount(\"123456789\", 1000)\n",
    "\n",
    "print(\"Initial balance:\", account.get_balance())\n",
    "account.deposit(500)\n",
    "account.withdraw(200)\n",
    "\n",
    "print(\"Direct access to balance:\", account._BankAccount__balance)\n"
   ]
  },
  {
   "cell_type": "code",
   "execution_count": null,
   "id": "6e901047-0b26-4a52-a9db-f05f4f30eccc",
   "metadata": {},
   "outputs": [],
   "source": [
    "#Q5"
   ]
  },
  {
   "cell_type": "code",
   "execution_count": null,
   "id": "03fd6e74-f391-40ea-bd65-472d2167c16d",
   "metadata": {},
   "outputs": [],
   "source": []
  },
  {
   "cell_type": "code",
   "execution_count": null,
   "id": "30ac50a1-1561-47ca-9448-2f2a5da1bae7",
   "metadata": {},
   "outputs": [],
   "source": []
  }
 ],
 "metadata": {
  "kernelspec": {
   "display_name": "Python 3 (ipykernel)",
   "language": "python",
   "name": "python3"
  },
  "language_info": {
   "codemirror_mode": {
    "name": "ipython",
    "version": 3
   },
   "file_extension": ".py",
   "mimetype": "text/x-python",
   "name": "python",
   "nbconvert_exporter": "python",
   "pygments_lexer": "ipython3",
   "version": "3.10.8"
  }
 },
 "nbformat": 4,
 "nbformat_minor": 5
}
